{
 "cells": [
  {
   "cell_type": "markdown",
   "metadata": {},
   "source": [
    "# Graduation Rates at PelotonU\n",
    "This project hypothesizes that the graduation rate for the Hybrid College nonprofit organization, PelotonU, follows a Poisson distribution."
   ]
  },
  {
   "cell_type": "markdown",
   "metadata": {},
   "source": [
    "Let's start with the pre-reqs"
   ]
  },
  {
   "cell_type": "code",
   "execution_count": 434,
   "metadata": {},
   "outputs": [],
   "source": [
    "import pandas as pd\n",
    "from datetime import datetime\n",
    "from dateutil.relativedelta import relativedelta\n",
    "from scipy.stats import poisson\n",
    "import numpy as np\n",
    "import matplotlib.pyplot as plt\n",
    "import math\n",
    "import warnings"
   ]
  },
  {
   "cell_type": "markdown",
   "metadata": {},
   "source": [
    "Let's define this quick helper function."
   ]
  },
  {
   "cell_type": "code",
   "execution_count": 435,
   "metadata": {},
   "outputs": [],
   "source": [
    "def getMonth(row):\n",
    "    date = datetime.strptime(row['PU Tenure Completed Date'], '%m/%d/%Y')\n",
    "    return date.month\n",
    "\n",
    "def getYear(row):\n",
    "    date = datetime.strptime(row['PU Tenure Completed Date'], '%m/%d/%Y')\n",
    "    return date.year\n",
    "\n",
    "def getMonthYear(row):\n",
    "    date = datetime.strptime(row['PU Tenure Completed Date'], '%m/%d/%Y')\n",
    "    return str (date.month)+\"-\"+str (date.year)"
   ]
  },
  {
   "cell_type": "markdown",
   "metadata": {},
   "source": [
    "Now let's download our spreadsheet data"
   ]
  },
  {
   "cell_type": "code",
   "execution_count": 436,
   "metadata": {},
   "outputs": [
    {
     "name": "stdout",
     "output_type": "stream",
     "text": [
      "4/24/2022\n",
      "   PU Tenure Completed Date  month  year month-year\n",
      "0                10/10/2017     10  2017    10-2017\n",
      "1                10/20/2017     10  2017    10-2017\n",
      "2                12/21/2017     12  2017    12-2017\n",
      "3                 4/30/2018      4  2018     4-2018\n",
      "4                 8/31/2018      8  2018     8-2018\n",
      "..                      ...    ...   ...        ...\n",
      "74                1/20/2022      1  2022     1-2022\n",
      "75                2/16/2022      2  2022     2-2022\n",
      "76                 3/1/2022      3  2022     3-2022\n",
      "77                4/24/2022      4  2022     4-2022\n",
      "78                4/24/2022      4  2022     4-2022\n",
      "\n",
      "[79 rows x 4 columns]\n"
     ]
    }
   ],
   "source": [
    "df = pd.read_excel(r'../grad_dates_by_student.xlsx', sheet_name='Sheet1')\n",
    "total_graduations = len(df.index)\n",
    "first = df['PU Tenure Completed Date'].iloc[0]\n",
    "last = df['PU Tenure Completed Date'].iloc[total_graduations-1]\n",
    "print(last)\n",
    "df['month'] = df.apply(lambda row: getMonth(row), axis=1)\n",
    "df['year'] = df.apply(lambda row: getYear(row), axis=1)\n",
    "df['month-year']= df.apply(lambda row: getMonthYear(row), axis=1)\n",
    "print(df)\n"
   ]
  },
  {
   "cell_type": "markdown",
   "metadata": {},
   "source": [
    "Let's get the frequency distribution of the data."
   ]
  },
  {
   "cell_type": "code",
   "execution_count": 437,
   "metadata": {},
   "outputs": [
    {
     "name": "stdout",
     "output_type": "stream",
     "text": [
      "   month-year  count\n",
      "0      1-2019      1\n",
      "1      1-2020      3\n",
      "2      1-2022      1\n",
      "3     10-2017      2\n",
      "4     10-2020      1\n",
      "5     11-2018      1\n",
      "6     11-2019      1\n",
      "7     11-2020      2\n",
      "8     12-2017      1\n",
      "9     12-2018      4\n",
      "10    12-2019      1\n",
      "11    12-2020      2\n",
      "12    12-2021      5\n",
      "13     2-2019      1\n",
      "14     2-2020      1\n",
      "15     2-2021      6\n",
      "16     2-2022      1\n",
      "17     3-2019      1\n",
      "18     3-2020      1\n",
      "19     3-2021      2\n",
      "20     3-2022      1\n",
      "21     4-2018      1\n",
      "22     4-2019      2\n",
      "23     4-2020      2\n",
      "24     4-2021      7\n",
      "25     4-2022      2\n",
      "26     5-2020      3\n",
      "27     5-2021      1\n",
      "28     6-2020      3\n",
      "29     6-2021      1\n",
      "30     7-2019      3\n",
      "31     8-2018      2\n",
      "32     8-2019      2\n",
      "33     8-2021      5\n",
      "34     9-2018      2\n",
      "35     9-2019      1\n",
      "36     9-2020      2\n",
      "37     9-2021      1\n",
      "38\n"
     ]
    }
   ],
   "source": [
    "agg_df = pd.DataFrame()\n",
    "agg_df = df.groupby(['month-year']).count().reset_index()\n",
    "agg_df.drop('PU Tenure Completed Date', inplace=True, axis=1)\n",
    "agg_df.drop('month', inplace=True, axis=1)\n",
    "agg_df.rename(columns={\"year\":\"count\"}, inplace=True)\n",
    "print(agg_df)\n",
    "print(len(agg_df))\n",
    "warnings.filterwarnings(\"ignore\")"
   ]
  },
  {
   "cell_type": "markdown",
   "metadata": {},
   "source": [
    "Our data doesn't account for months with no grads. How many months are those?"
   ]
  },
  {
   "cell_type": "code",
   "execution_count": 438,
   "metadata": {},
   "outputs": [
    {
     "name": "stdout",
     "output_type": "stream",
     "text": [
      "16 months total with no grads.\n"
     ]
    }
   ],
   "source": [
    "earliestGradDate = datetime.strptime(first, '%m/%d/%Y')\n",
    "latestGradDate = datetime.strptime(last, '%m/%d/%Y')\n",
    "elapsedDates = relativedelta(latestGradDate, earliestGradDate)\n",
    "elapsedMonths = elapsedDates.months+elapsedDates.years*12\n",
    "poiss_lambda = total_graduations/elapsedMonths\n",
    "count_monthsNoGrads = elapsedMonths-len(agg_df)\n",
    "print(count_monthsNoGrads, \"months total with no grads.\")"
   ]
  },
  {
   "cell_type": "markdown",
   "metadata": {},
   "source": [
    "Great! Now let's append these months to our frequency distribution dataframe."
   ]
  },
  {
   "cell_type": "code",
   "execution_count": 439,
   "metadata": {},
   "outputs": [
    {
     "name": "stdout",
     "output_type": "stream",
     "text": [
      "   month-year  count\n",
      "0      1-2019      1\n",
      "1      1-2020      3\n",
      "2      1-2022      1\n",
      "3     10-2017      2\n",
      "4     10-2020      1\n",
      "5     11-2018      1\n",
      "6     11-2019      1\n",
      "7     11-2020      2\n",
      "8     12-2017      1\n",
      "9     12-2018      4\n",
      "10    12-2019      1\n",
      "11    12-2020      2\n",
      "12    12-2021      5\n",
      "13     2-2019      1\n",
      "14     2-2020      1\n",
      "15     2-2021      6\n",
      "16     2-2022      1\n",
      "17     3-2019      1\n",
      "18     3-2020      1\n",
      "19     3-2021      2\n",
      "20     3-2022      1\n",
      "21     4-2018      1\n",
      "22     4-2019      2\n",
      "23     4-2020      2\n",
      "24     4-2021      7\n",
      "25     4-2022      2\n",
      "26     5-2020      3\n",
      "27     5-2021      1\n",
      "28     6-2020      3\n",
      "29     6-2021      1\n",
      "30     7-2019      3\n",
      "31     8-2018      2\n",
      "32     8-2019      2\n",
      "33     8-2021      5\n",
      "34     9-2018      2\n",
      "35     9-2019      1\n",
      "36     9-2020      2\n",
      "37     9-2021      1\n",
      "38        0-0      0\n",
      "39        0-0      0\n",
      "40        0-0      0\n",
      "41        0-0      0\n",
      "42        0-0      0\n",
      "43        0-0      0\n",
      "44        0-0      0\n",
      "45        0-0      0\n",
      "46        0-0      0\n",
      "47        0-0      0\n",
      "48        0-0      0\n",
      "49        0-0      0\n",
      "50        0-0      0\n",
      "51        0-0      0\n",
      "52        0-0      0\n",
      "53        0-0      0\n"
     ]
    }
   ],
   "source": [
    "df_agg = pd.DataFrame()\n",
    "df_agg = agg_df\n",
    "counter = 0\n",
    "while(counter < count_monthsNoGrads):\n",
    "    df_agg = df_agg.append({'month-year': '0-0', 'count':0}, ignore_index=True)\n",
    "    counter = counter+1\n",
    "\n",
    "print(df_agg)"
   ]
  },
  {
   "cell_type": "markdown",
   "metadata": {},
   "source": [
    "From here, we can display the frequency distribution in a table."
   ]
  },
  {
   "cell_type": "code",
   "execution_count": 440,
   "metadata": {},
   "outputs": [
    {
     "data": {
      "image/png": "[encoded data removed]",
      "text/plain": [
       "<Figure size 540x252 with 1 Axes>"
      ]
     },
     "metadata": {
      "needs_background": "light"
     },
     "output_type": "display_data"
    }
   ],
   "source": [
    "frequencies = pd.DataFrame({'Actual Frequencies' : df_agg.groupby([\"count\"]).size()})\n",
    "frequencies = frequencies.sort_values(by=[\"count\", \"Actual Frequencies\"])\n",
    "\n",
    "\n",
    "fig, ax = plt.subplots()\n",
    "fig.patch.set_visible(True)\n",
    "\n",
    "#create table\n",
    "table = ax.table(cellText=frequencies.values, rowLabels=frequencies.index, colLabels=frequencies.columns, loc='center')\n",
    "\n",
    "#display table\n",
    "table.set_fontsize(14)\n",
    "table.scale(1,4)\n",
    "ax.axis('off')\n",
    "plt.show()\n"
   ]
  },
  {
   "cell_type": "markdown",
   "metadata": {},
   "source": [
    "We can also display this frequency distribution on a histogram."
   ]
  },
  {
   "cell_type": "code",
   "execution_count": 441,
   "metadata": {},
   "outputs": [
    {
     "data": {
      "text/plain": [
       "(array([16., 18., 11.,  4.,  1.,  2.,  1.,  1.]),\n",
       " array([0, 1, 2, 3, 4, 5, 6, 7, 8]),\n",
       " <BarContainer object of 8 artists>)"
      ]
     },
     "execution_count": 441,
     "metadata": {},
     "output_type": "execute_result"
    },
    {
     "data": {
      "image/png": "[encoded data removed]",
      "text/plain": [
       "<Figure size 540x252 with 1 Axes>"
      ]
     },
     "metadata": {
      "needs_background": "light"
     },
     "output_type": "display_data"
    }
   ],
   "source": [
    "plt.hist(df_agg['count'], bins=[0, 1, 2, 3, 4, 5, 6, 7, 8])"
   ]
  },
  {
   "cell_type": "markdown",
   "metadata": {},
   "source": [
    "We can create a poisson pdf diagram with a λ from our data and overlay it above our histogram to see the similarities."
   ]
  },
  {
   "cell_type": "code",
   "execution_count": 442,
   "metadata": {},
   "outputs": [
    {
     "data": {
      "image/png": "[encoded data removed]",
      "text/plain": [
       "<Figure size 540x252 with 1 Axes>"
      ]
     },
     "metadata": {
      "needs_background": "light"
     },
     "output_type": "display_data"
    }
   ],
   "source": [
    "x = np.arange(0, 9, 1)\n",
    "y = poisson.pmf(x, mu=poiss_lambda, loc=0)*53\n",
    "plt.hist(df_agg['count'], bins=[0, 1, 2, 3, 4, 5, 6, 7, 8])\n",
    "plt.plot( x, y, 'r-' )\n",
    "plt.show()\n"
   ]
  }
 ],
 "metadata": {
  "kernelspec": {
   "display_name": "Python 3.10.4 ('pu-grad-stats')",
   "language": "python",
   "name": "python3"
  },
  "language_info": {
   "codemirror_mode": {
    "name": "ipython",
    "version": 3
   },
   "file_extension": ".py",
   "mimetype": "text/x-python",
   "name": "python",
   "nbconvert_exporter": "python",
   "pygments_lexer": "ipython3",
   "version": "3.10.4"
  },
  "orig_nbformat": 4,
  "vscode": {
   "interpreter": {
    "hash": "eca176d84cac21c281d9a022633a254c440a6a5edef2afda7da684aa3f568890"
   }
  }
 },
 "nbformat": 4,
 "nbformat_minor": 2
}
